{
 "cells": [
  {
   "cell_type": "code",
   "execution_count": 1,
   "metadata": {
    "collapsed": true
   },
   "outputs": [],
   "source": [
    "import re\n",
    "import numpy as np"
   ]
  },
  {
   "cell_type": "code",
   "execution_count": 57,
   "metadata": {
    "collapsed": true
   },
   "outputs": [],
   "source": [
    "def remove_special_chars(text):\n",
    "    remove_tag = r'。|◎|■|▼|◆|▽|\\.|●|①|②|③|;|,|、|★|☆|＊|◇|※|／／｜～' \\\n",
    "                 r'|\\*|…|│|\\?|（※）|「|」|『|』|\\u3000' \\\n",
    "                 r'!|♪|！|％|%|\\?|\\／|\\/|&|>|<|\\|【|【|】|＜|＞' \\\n",
    "                 r'|\\[|\\]|\\r|\\n|\\t|\\'|_|e.g|\\{|\\}|\\#|\\@|\\$'\n",
    "    text = re.sub(remove_tag, ' ', text)\n",
    "    text = re.sub('\\s\\s+', ' ', text.strip())\n",
    "    return text"
   ]
  },
  {
   "cell_type": "code",
   "execution_count": 67,
   "metadata": {
    "collapsed": true
   },
   "outputs": [],
   "source": [
    "def split2sentences(para):\n",
    "    paras = []\n",
    "    # para = remove_numbers(para)\n",
    "    paras = remove_special_chars(para).split(\" \")\n",
    "    return paras"
   ]
  },
  {
   "cell_type": "code",
   "execution_count": 64,
   "metadata": {
    "collapsed": true
   },
   "outputs": [],
   "source": [
    "match_pattern = re.compile(r'(転職(者|社|回)*(数|で))|(次[0-9]+(社|者)目)|(転職(者|社|回)*(数|で)[0-9]+((回以上)|(社|者)*))|(数*[0-9]+((社以内)|((社|者)*経験.{0,1}[迄|(まで)|(のみ)]*)))|(数*[0-9]+((社以内)|((社|者)(経験)*.{0,3}[迄|(まで)|(のみ)])))')"
   ]
  },
  {
   "cell_type": "code",
   "execution_count": 15,
   "metadata": {
    "collapsed": true
   },
   "outputs": [],
   "source": [
    "def extract_changeover_age_pattern(text):\n",
    "    patterns = []\n",
    "    sentences = split2sentences(text)\n",
    "    for sentence in sentences:\n",
    "        match = re.search(match_pattern, sentence)\n",
    "        if match is not None:\n",
    "            patterns.append(match.string)\n",
    "    return patterns"
   ]
  },
  {
   "cell_type": "code",
   "execution_count": 13,
   "metadata": {
    "collapsed": true
   },
   "outputs": [],
   "source": [
    "def extract_number(text):\n",
    "    numbers = []\n",
    "    patterns = extract_changeover_age_pattern(text)\n",
    "    for pattern in patterns:\n",
    "        match = analyze_pattern(pattern)\n",
    "        if len(match) != 0:\n",
    "            numbers.append(match)\n",
    "    return numbers"
   ]
  },
  {
   "cell_type": "code",
   "execution_count": 65,
   "metadata": {
    "collapsed": true
   },
   "outputs": [],
   "source": [
    "def analyze_pattern(pattern):\n",
    "    match = re.findall(number_pattenr,pattern)\n",
    "    match = list(map(lambda item: int(item), match))\n",
    "    match = sorted(match,reverse=False)\n",
    "    contain_changeover = '社' in pattern or '者' in pattern or '回' in pattern\n",
    "    contain_age = '代' in pattern or '歳' in pattern\n",
    "    if contain_changeover and not contain_age:\n",
    "        if '社' in pattern or '者' in pattern:\n",
    "            return (match[0]-1,0,200)\n",
    "        else:\n",
    "            return (match[0],0,200)\n",
    "    if not contain_changeover and contain_age:\n",
    "        if '代' in pattern:\n",
    "            return (200,match[0],match[0] + 9)\n",
    "        else:\n",
    "            return (200,0,match[0])\n",
    "    if contain_changeover and contain_age:\n",
    "        if '社' in pattern or '者' in pattern:\n",
    "            if '代' in pattern:\n",
    "                return(match[0]-1,match[1],match[1]+9)\n",
    "            elif '歳' in pattern:\n",
    "                return(match[0]-1,0,match[1])\n",
    "        elif '回' in pattern:\n",
    "            if '代' in pattern:\n",
    "                return(match[0],match[1],match[1]+9)\n",
    "            elif '歳' in pattern:\n",
    "                return(match[0],0,match[1])\n",
    "        "
   ]
  },
  {
   "cell_type": "code",
   "execution_count": 62,
   "metadata": {
    "collapsed": true
   },
   "outputs": [],
   "source": [
    "sample_text = '▼銀行、クレジットカード会社経験者歓迎 \\\n",
    "※望ましい事業会社経験:流通・電機・機械・自動車・製薬・エネルギー・IT\",\"【銀】【証】【投信】【リース】\\\n",
    "◆30代では1社経験がベストです。\\\n",
    "■ビジネスレベルの中国語\",\"【25%】【2社経験必須】【55歳以上はNG】【レべルは日本電産と同等】　窓口は日本電産人事部 \\\n",
    "◆ゼネコン会社経験者\",\"■転勤については応相談 \\\n",
    "Firewal\",\"【年齢が高くなるにつれて求められるスキルも高くなります】【Windowsエンジニア　39歳　3社経験　成約】\\\n",
    "います～\",\"■07卒業可(書類選考はOK)　■1社経験基本(転職理由明確な方) \\\n",
    "■英語力(TOEIC500点以上)\",\"■2社経験迄■MARCH、関関同立、南山、以上の大学出身者■二卒は早慶、国公立 \\\n",
    "58175\",\"【経験】■戦略系コンサルティング経験者歓迎■戦略系コンサルティング経験3年以上■事業会社での経営企画・事業開発経験■プロジェクトマネジメント経験あれば尚可 \\\n",
    "■実務経験を5年以上お持ちの方\",\"■社歴について～30歳まで1社経験者のみ、～35歳2社経験まで　これ以上の会社経験のあ \\\n",
    "考Point】30代で転職回数2回(=3社経験)が目安。スキルによっては応相談。　【残業時間】平均的な残業時間(目安)40-50h/月程度。【 \\\n",
    "■経験社数:20代1社経験、30代2社経験まで \\\n",
    "58624■国内外の知的財産権の確保・活用の実務経験をお持ちの方 転職回数:20代2社・30～40代3社くらいまで';"
   ]
  },
  {
   "cell_type": "code",
   "execution_count": 68,
   "metadata": {},
   "outputs": [
    {
     "data": {
      "text/plain": [
       "['30代では1社経験がベストです',\n",
       " '2社経験必須',\n",
       " 'Windowsエンジニア\\u300039歳\\u30003社経験\\u3000成約',\n",
       " '1社経験基本(転職理由明確な方)',\n",
       " '2社経験迄',\n",
       " '社歴について～30歳まで1社経験者のみ',\n",
       " '～35歳2社経験まで\\u3000これ以上の会社経験のあ',\n",
       " '30代で転職回数2回(=3社経験)が目安',\n",
       " '経験社数:20代1社経験',\n",
       " '30代2社経験まで',\n",
       " '転職回数:20代2社・30～40代3社くらいまで']"
      ]
     },
     "execution_count": 68,
     "metadata": {},
     "output_type": "execute_result"
    }
   ],
   "source": [
    "extract_changeover_age_pattern(sample_text)"
   ]
  },
  {
   "cell_type": "code",
   "execution_count": 121,
   "metadata": {},
   "outputs": [],
   "source": [
    "number_pattern = re.compile(r'\\d+')\n",
    "\n",
    "def extract_change_over(text):\n",
    "    patterns = extract_changeover_age_pattern(text)\n",
    "    result = []\n",
    "    \n",
    "    for pattern in patterns:\n",
    "        match = re.finditer(number_pattern, pattern)\n",
    "        \n",
    "        age_from = 0 \n",
    "        age_to = 200\n",
    "        time_change = 0\n",
    "        if (len(match) == 0):\n",
    "            continue\n",
    "        \n",
    "        if (int(match[0].group()) > 10):\n",
    "            is_timechange_previous = False\n",
    "        else:\n",
    "            is_timechange_previous = True\n",
    "        \n",
    "        for x in match:\n",
    "            number = x.group()\n",
    "            position = x.end() + 1\n",
    "            if (position == len(pattern)):\n",
    "                next_char = \"x\"\n",
    "            else:\n",
    "                next_char = pattern[position]\n",
    "                \n",
    "            if (number > 10 and is_timechange_previous == True):\n",
    "                is_same = False\n",
    "                for idx, temp in enumerate(result):\n",
    "                    if (temp[0] == age_from and temp[1] == age_to):\n",
    "                        result[idx][2] = time_change\n",
    "                        is_same = True\n",
    "                        break\n",
    "                if (is_same == False):\n",
    "                    result.append((age_from, age_to, time_change))\n",
    "                    \n",
    "                result.append((age_from, age_to, time_change))\n",
    "                        \n",
    "            if (number < 10):\n",
    "                time_change = number\n",
    "            else:\n",
    "                if (next_char == \"代\"):\n",
    "                    age_from = number\n",
    "                    age_to = (int(number/10) + 1) * 10 - 1\n",
    "                else:\n",
    "                    if (age_from == 0):\n",
    "                        age_from = number\n",
    "                    else:\n",
    "                        age_to = number \n",
    "                \n",
    "            if (number) > 10):\n",
    "                is_timechange_previous = False\n",
    "            else:\n",
    "                is_timechange_previous = True\n",
    "        \n",
    "        if (is_timechange_previous == True):\n",
    "            is_same = False\n",
    "                for idx, temp in enumerate(result):\n",
    "                    if (temp[0] == age_from and temp[1] == age_to):\n",
    "                        result[idx][2] = time_change\n",
    "                        is_same = True\n",
    "                        break\n",
    "                if (is_same == False):\n",
    "                    result.append((age_from, age_to, time_change))"
   ]
  },
  {
   "cell_type": "code",
   "execution_count": 122,
   "metadata": {
    "scrolled": true
   },
   "outputs": [
    {
     "name": "stdout",
     "output_type": "stream",
     "text": [
      "0 30\n",
      "5 1\n",
      "0 2\n",
      "13 39\n",
      "17 3\n",
      "0 1\n",
      "0 2\n",
      "7 30\n",
      "12 1\n",
      "1 35\n",
      "4 2\n",
      "0 30\n",
      "8 2\n",
      "12 3\n",
      "5 20\n",
      "8 1\n",
      "0 30\n",
      "3 2\n",
      "5 20\n",
      "8 2\n",
      "11 30\n",
      "14 40\n",
      "17 3\n"
     ]
    }
   ],
   "source": [
    "extract_change_over(sample_text)"
   ]
  },
  {
   "cell_type": "code",
   "execution_count": null,
   "metadata": {
    "collapsed": true
   },
   "outputs": [],
   "source": []
  }
 ],
 "metadata": {
  "kernelspec": {
   "display_name": "Python 3",
   "language": "python",
   "name": "python3"
  },
  "language_info": {
   "codemirror_mode": {
    "name": "ipython",
    "version": 3
   },
   "file_extension": ".py",
   "mimetype": "text/x-python",
   "name": "python",
   "nbconvert_exporter": "python",
   "pygments_lexer": "ipython3",
   "version": "3.6.1"
  }
 },
 "nbformat": 4,
 "nbformat_minor": 2
}
