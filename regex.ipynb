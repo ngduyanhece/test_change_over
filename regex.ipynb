{
 "cells": [
  {
   "cell_type": "code",
   "execution_count": 2,
   "metadata": {},
   "outputs": [],
   "source": [
    "import re"
   ]
  },
  {
   "cell_type": "code",
   "execution_count": 3,
   "metadata": {
    "collapsed": true
   },
   "outputs": [],
   "source": [
    "def remove_special_chars(text):\n",
    "    remove_tag = r'。|◎|■|▼|◆|▽|・|･|\\.|●|①|②|③|;|,|、|★|☆|＊|\\+|◇|:|※|／／｜～|：' \\\n",
    "                 r'|－|-|\\*|…|│|＋|←|→|\\?|└|（※）|「|」|⇔|「|」|『|』|\\u3000|' \\\n",
    "                 r'!|♪|！|~|％|%|～|\\?|\\／|\\/|&|=|⇒|└|xx|>|<|\\（|\\）|\\)|\\(|【|】|＜|＞' \\\n",
    "                 r'|≪|≫|\\[|\\]|\\r|\\n|\\t|\\'|_|e.g|\\{|\\}|\\#|\\@|\\$'\n",
    "    text = re.sub(remove_tag, ' ', text)\n",
    "    text = re.sub('\\s\\s+', ' ', text.strip())\n",
    "    return text"
   ]
  },
  {
   "cell_type": "code",
   "execution_count": 7,
   "metadata": {
    "collapsed": true
   },
   "outputs": [],
   "source": [
    "def split2sentences(para):\n",
    "    paras = []\n",
    "    # para = remove_numbers(para)\n",
    "    paras = remove_special_chars(para).split(\" \")\n",
    "    return paras"
   ]
  },
  {
   "cell_type": "code",
   "execution_count": 4,
   "metadata": {
    "collapsed": true
   },
   "outputs": [],
   "source": [
    "match_pattern = re.compile(r'(転職(者|社|回)*(数|で))|(次[0-9]+(社|者)目)|(転職(者|社|回)*(数|で)[0-9]+((回以上)|(社|者)*))|(数*[0-9]+((社以内)|((社|者)*経験.{0,1}[迄|(まで)|(のみ)]*)))')"
   ]
  },
  {
   "cell_type": "code",
   "execution_count": 22,
   "metadata": {},
   "outputs": [],
   "source": [
    "sample_text = '【必須要件】■IT業界法人営業経験1年以上　もしくはインフラの設計もしくは運用のご経験ある方\\\n",
    "■IDC(データセンター)を基にした、顧客提案に興味関心をお持ちの方【歓迎要件】\\\n",
    "▼マネジメント経験をお持ちの方\",\"【高学歴必須】【転職回数2回以上厳禁】【その代わり年収、超高い】'"
   ]
  },
  {
   "cell_type": "code",
   "execution_count": 14,
   "metadata": {
    "collapsed": true
   },
   "outputs": [],
   "source": [
    "def extract_changeover_age_pattern(text):\n",
    "    patterns = []\n",
    "    sentences = split2sentences(text)\n",
    "    for sentence in sentences:\n",
    "        match = re.search(match_pattern, sentence)\n",
    "        if match is not None:\n",
    "            patterns.append(match.string)\n",
    "    return patterns"
   ]
  },
  {
   "cell_type": "code",
   "execution_count": 23,
   "metadata": {},
   "outputs": [
    {
     "data": {
      "text/plain": [
       "['転職回数2回以上厳禁']"
      ]
     },
     "execution_count": 23,
     "metadata": {},
     "output_type": "execute_result"
    }
   ],
   "source": [
    "extract_changeover_age_pattern(sample_text)"
   ]
  }
 ],
 "metadata": {
  "kernelspec": {
   "display_name": "Python 3",
   "language": "python",
   "name": "python3"
  },
  "language_info": {
   "codemirror_mode": {
    "name": "ipython",
    "version": 3
   },
   "file_extension": ".py",
   "mimetype": "text/x-python",
   "name": "python",
   "nbconvert_exporter": "python",
   "pygments_lexer": "ipython3",
   "version": "3.5.4"
  }
 },
 "nbformat": 4,
 "nbformat_minor": 2
}
