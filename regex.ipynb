{
 "cells": [
  {
   "cell_type": "code",
   "execution_count": 1,
   "metadata": {
    "collapsed": true
   },
   "outputs": [],
   "source": [
    "import re\n",
    "import numpy as np"
   ]
  },
  {
   "cell_type": "code",
   "execution_count": 2,
   "metadata": {
    "collapsed": true
   },
   "outputs": [],
   "source": [
    "def remove_special_chars(text):\n",
    "    remove_tag = r'。|◎|■|▼|◆|▽|\\.|●|①|②|③|;|,|、|★|☆|＊|◇|※|／／｜～' \\\n",
    "                 r'|\\*|…|│|\\?|（※）|「|」|『|』|\\u3000' \\\n",
    "                 r'!|♪|！|％|%|\\?|\\／|\\/|&|>|<|\\|【|【|】|＜|＞' \\\n",
    "                 r'|\\[|\\]|\\r|\\n|\\t|\\'|_|e.g|\\{|\\}|\\#|\\@|\\$'\n",
    "    text = re.sub(remove_tag, ' ', text)\n",
    "    text = re.sub('\\s\\s+', ' ', text.strip())\n",
    "    return text"
   ]
  },
  {
   "cell_type": "code",
   "execution_count": 3,
   "metadata": {
    "collapsed": true
   },
   "outputs": [],
   "source": [
    "def split2sentences(para):\n",
    "    paras = []\n",
    "    # para = remove_numbers(para)\n",
    "    paras = remove_special_chars(para).split(\" \")\n",
    "    return paras"
   ]
  },
  {
   "cell_type": "code",
   "execution_count": 4,
   "metadata": {
    "collapsed": true
   },
   "outputs": [],
   "source": [
    "match_pattern = re.compile(r'(転職(者|社|回)*(数|で))|(次[0-9]+(社|者)目)|(転職(者|社|回)*(数|で)[0-9]+((回以上)|(社|者)*))|(数*[0-9]+((社以内)|((社|者)*経験.{0,1}[迄|(まで)|(のみ)]*)))|(数*[0-9]+((社以内)|((社|者)(経験)*.{0,3}[迄|(まで)|(のみ)])))')"
   ]
  },
  {
   "cell_type": "code",
   "execution_count": 5,
   "metadata": {
    "collapsed": true
   },
   "outputs": [],
   "source": [
    "def extract_changeover_age_pattern(text):\n",
    "    patterns = []\n",
    "    sentences = split2sentences(text)\n",
    "    for sentence in sentences:\n",
    "        match = re.search(match_pattern, sentence)\n",
    "        if match is not None:\n",
    "            patterns.append(match.string)\n",
    "    return patterns"
   ]
  },
  {
   "cell_type": "code",
   "execution_count": 6,
   "metadata": {
    "collapsed": true
   },
   "outputs": [],
   "source": [
    "def extract_number(text):\n",
    "    numbers = []\n",
    "    patterns = extract_changeover_age_pattern(text)\n",
    "    for pattern in patterns:\n",
    "        match = analyze_pattern(pattern)\n",
    "        if len(match) != 0:\n",
    "            numbers.append(match)\n",
    "    return numbers"
   ]
  },
  {
   "cell_type": "code",
   "execution_count": 7,
   "metadata": {
    "collapsed": true
   },
   "outputs": [],
   "source": [
    "def analyze_pattern(pattern):\n",
    "    match = re.findall(number_pattenr,pattern)\n",
    "    match = list(map(lambda item: int(item), match))\n",
    "    match = sorted(match,reverse=False)\n",
    "    contain_changeover = '社' in pattern or '者' in pattern or '回' in pattern\n",
    "    contain_age = '代' in pattern or '歳' in pattern\n",
    "    if contain_changeover and not contain_age:\n",
    "        if '社' in pattern or '者' in pattern:\n",
    "            return (match[0]-1,0,200)\n",
    "        else:\n",
    "            return (match[0],0,200)\n",
    "    if not contain_changeover and contain_age:\n",
    "        if '代' in pattern:\n",
    "            return (200,match[0],match[0] + 9)\n",
    "        else:\n",
    "            return (200,0,match[0])\n",
    "    if contain_changeover and contain_age:\n",
    "        if '社' in pattern or '者' in pattern:\n",
    "            if '代' in pattern:\n",
    "                return(match[0]-1,match[1],match[1]+9)\n",
    "            elif '歳' in pattern:\n",
    "                return(match[0]-1,0,match[1])\n",
    "        elif '回' in pattern:\n",
    "            if '代' in pattern:\n",
    "                return(match[0],match[1],match[1]+9)\n",
    "            elif '歳' in pattern:\n",
    "                return(match[0],0,match[1])\n",
    "        "
   ]
  },
  {
   "cell_type": "code",
   "execution_count": 36,
   "metadata": {
    "collapsed": true
   },
   "outputs": [],
   "source": [
    "sample_text = '転職回数厳守!…20代:2社経験、30代:3社経験まで';"
   ]
  },
  {
   "cell_type": "code",
   "execution_count": null,
   "metadata": {},
   "outputs": [],
   "source": [
    "extract_changeover_age_pattern(sample_text)"
   ]
  },
  {
   "cell_type": "code",
   "execution_count": 9,
   "metadata": {},
   "outputs": [],
   "source": [
    "number_pattern = re.compile(r'\\d+')\n",
    "\n",
    "def extract_change_over(text):\n",
    "    patterns = extract_changeover_age_pattern(text)\n",
    "    result = []\n",
    "    \n",
    "    for pattern in patterns:\n",
    "        match = list(re.finditer(number_pattern, pattern))\n",
    "        \n",
    "        age_from = 0 \n",
    "        age_to = 200\n",
    "        time_change = 0\n",
    "        if (len(match) == 0):\n",
    "            continue\n",
    "        \n",
    "        if (int(match[0].group()) > 10):\n",
    "            is_timechange_previous = False\n",
    "        else:\n",
    "            is_timechange_previous = True\n",
    "        \n",
    "        for x in match:\n",
    "            number = int(x.group())\n",
    "            position = x.end()\n",
    "            if (position == len(pattern)):\n",
    "                next_char = \"x\"\n",
    "            else:\n",
    "                next_char = pattern[position]\n",
    "                \n",
    "            if (number > 10 and is_timechange_previous == True):\n",
    "                is_same = False\n",
    "                if (age_to == 200 and age_from != 0):\n",
    "                    age_to = age_from\n",
    "                    age_from = 0\n",
    "                    \n",
    "                for idx, temp in enumerate(result):\n",
    "                    if (temp[0] == age_from and temp[1] == age_to):\n",
    "#                         result[idx] = (temp[0], temp[1], time_change)\n",
    "#                         is_same = True\n",
    "                        break\n",
    "                if (is_same == False):\n",
    "                    result.append((age_from, age_to, time_change))\n",
    "                    \n",
    "                age_from = 0 \n",
    "                age_to = 200\n",
    "                \n",
    "            if (number < 10):\n",
    "                time_change = number\n",
    "                is_timechange_previous = True\n",
    "            else:\n",
    "                if (next_char == \"代\"):\n",
    "                    if (age_from == 0):\n",
    "                        age_from = number\n",
    "                        age_to = (int(number/10) + 1) * 10 - 1\n",
    "                    else:\n",
    "                        age_to = number\n",
    "                else:\n",
    "                    if (age_from == 0):\n",
    "                        age_from = number\n",
    "                    else:\n",
    "                        age_to = number \n",
    "                is_timechange_previous = False\n",
    "        \n",
    "        if (is_timechange_previous == True):\n",
    "            is_same = False\n",
    "            if (age_to == 200 and age_from != 0):\n",
    "                    age_to = age_from\n",
    "                    age_from = 0\n",
    "            for idx, temp in enumerate(result):\n",
    "                if (temp[0] == age_from and temp[1] == age_to):\n",
    "#                     result[idx] = (temp[0], temp[1], time_change)\n",
    "#                     is_same = True\n",
    "                    break\n",
    "            if (is_same == False):\n",
    "                result.append((age_from, age_to, time_change))\n",
    "                \n",
    "    return result"
   ]
  },
  {
   "cell_type": "code",
   "execution_count": 37,
   "metadata": {
    "scrolled": true
   },
   "outputs": [],
   "source": [
    "temp = extract_change_over(sample_text)"
   ]
  },
  {
   "cell_type": "code",
   "execution_count": 38,
   "metadata": {},
   "outputs": [
    {
     "name": "stdout",
     "output_type": "stream",
     "text": [
      "[(20, 29, 2), (30, 39, 3)]\n"
     ]
    }
   ],
   "source": [
    "print(temp)"
   ]
  },
  {
   "cell_type": "code",
   "execution_count": 54,
   "metadata": {
    "collapsed": true
   },
   "outputs": [],
   "source": [
    "def extract_toeic(text):\n",
    "    toeic_pattern = re.compile(r'TOIEC\\d+|TOEIC\\d+')\n",
    "    sentences = split2sentences(text)\n",
    "    for sentence in sentences:\n",
    "        match = re.search(toeic_pattern, sentence)\n",
    "        if match is not None:\n",
    "            print(re.smatch.group())"
   ]
  },
  {
   "cell_type": "code",
   "execution_count": 57,
   "metadata": {
    "collapsed": true
   },
   "outputs": [],
   "source": [
    "sample_text = '必須要件】■物流会社あるいは商社等での輸出業務経験5年以上■英語力(TOEIC600点以上)'"
   ]
  },
  {
   "cell_type": "code",
   "execution_count": 58,
   "metadata": {},
   "outputs": [
    {
     "name": "stdout",
     "output_type": "stream",
     "text": [
      "TOEIC600\n"
     ]
    }
   ],
   "source": [
    "extract_toeic(sample_text)"
   ]
  },
  {
   "cell_type": "code",
   "execution_count": null,
   "metadata": {
    "collapsed": true
   },
   "outputs": [],
   "source": []
  }
 ],
 "metadata": {
  "kernelspec": {
   "display_name": "Python 3",
   "language": "python",
   "name": "python3"
  },
  "language_info": {
   "codemirror_mode": {
    "name": "ipython",
    "version": 3
   },
   "file_extension": ".py",
   "mimetype": "text/x-python",
   "name": "python",
   "nbconvert_exporter": "python",
   "pygments_lexer": "ipython3",
   "version": "3.5.4"
  }
 },
 "nbformat": 4,
 "nbformat_minor": 2
}
