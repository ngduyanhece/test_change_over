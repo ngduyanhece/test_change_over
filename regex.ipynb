{
 "cells": [
  {
   "cell_type": "code",
   "execution_count": 89,
   "metadata": {},
   "outputs": [],
   "source": [
    "import re\n",
    "import numpy as np"
   ]
  },
  {
   "cell_type": "code",
   "execution_count": 180,
   "metadata": {
    "collapsed": true
   },
   "outputs": [],
   "source": [
    "def remove_special_chars(text):\n",
    "    remove_tag = r'。|◎|■|▼|◆|▽|・|･|\\.|●|①|②|③|;|,|、|★|☆|＊|\\+|◇|※|／／｜～|：' \\\n",
    "                 r'|－|-|\\*|…|│|＋|←|→|\\?|└|（※）|「|」|⇔|「|」|『|』|\\u3000|' \\\n",
    "                 r'!|♪|！|~|％|%|～|\\?|\\／|\\/|&|=|⇒|└|xx|>|<|\\（|\\）|\\)|\\(|【|】|＜|＞' \\\n",
    "                 r'|≪|≫|\\[|\\]|\\r|\\n|\\t|\\'|_|e.g|\\{|\\}|\\#|\\@|\\$'\n",
    "    text = re.sub(remove_tag, ' ', text)\n",
    "    text = re.sub('\\s\\s+', ' ', text.strip())\n",
    "    return text"
   ]
  },
  {
   "cell_type": "code",
   "execution_count": 155,
   "metadata": {
    "collapsed": true
   },
   "outputs": [],
   "source": [
    "def split2sentences(para):\n",
    "    paras = []\n",
    "    # para = remove_numbers(para)\n",
    "    paras = remove_special_chars(para).split(\" \")\n",
    "    return paras"
   ]
  },
  {
   "cell_type": "code",
   "execution_count": 151,
   "metadata": {
    "collapsed": true
   },
   "outputs": [],
   "source": [
    "match_pattern = re.compile(r'(転職(者|社|回)*(数|で))|(次[0-9]+(社|者)目)|(転職(者|社|回)*(数|で)[0-9]+((回以上)|(社|者)*))|(数*[0-9]+((社以内)|((社|者)*経験.{0,1}[迄|(まで)|(のみ)]*)))')"
   ]
  },
  {
   "cell_type": "code",
   "execution_count": 178,
   "metadata": {
    "collapsed": true
   },
   "outputs": [],
   "source": [
    "def extract_changeover_age_pattern(text):\n",
    "    patterns = []\n",
    "    sentences = split2sentences(text)\n",
    "    for sentence in sentences:\n",
    "        match = re.search(match_pattern, sentence)\n",
    "        if match is not None:\n",
    "            patterns.append(match.string)\n",
    "    return patterns"
   ]
  },
  {
   "cell_type": "code",
   "execution_count": 185,
   "metadata": {},
   "outputs": [],
   "source": [
    "def extract_number(text):\n",
    "    numbers = []\n",
    "    patterns = extract_changeover_age_pattern(text)\n",
    "    for pattern in patterns:\n",
    "        match = analyze_pattern(pattern)\n",
    "        if len(match) != 0:\n",
    "            numbers.append(match)\n",
    "    return numbers"
   ]
  },
  {
   "cell_type": "code",
   "execution_count": 186,
   "metadata": {},
   "outputs": [],
   "source": [
    "def analyze_pattern(pattern):\n",
    "    match = re.findall(number_pattenr,pattern)\n",
    "    match = list(map(lambda item: int(item), match))\n",
    "    match = sorted(match,reverse=False)\n",
    "    contain_changeover = '社' in pattern or '者' in pattern or '回' in pattern\n",
    "    contain_age = '代' in pattern or '歳' in pattern\n",
    "    if contain_changeover and not contain_age:\n",
    "        if '社' in pattern or '者' in pattern:\n",
    "            return (match[0]-1,0,200)\n",
    "        else:\n",
    "            return (match[0],0,200)\n",
    "    if not contain_changeover and contain_age:\n",
    "        if '代' in pattern:\n",
    "            return (200,match[0],match[0] + 9)\n",
    "        else:\n",
    "            return (200,0,match[0])\n",
    "    if contain_changeover and contain_age:\n",
    "        if '社' in pattern or '者' in pattern:\n",
    "            if '代' in pattern:\n",
    "                return(match[0]-1,match[1],match[1]+9)\n",
    "            elif '歳' in pattern:\n",
    "                return(match[0]-1,0,match[1])\n",
    "        elif '回' in pattern:\n",
    "            if '代' in pattern:\n",
    "                return(match[0],match[1],match[1]+9)\n",
    "            elif '歳' in pattern:\n",
    "                return(match[0],0,match[1])\n",
    "        "
   ]
  },
  {
   "cell_type": "code",
   "execution_count": 189,
   "metadata": {
    "collapsed": true
   },
   "outputs": [],
   "source": [
    "sample_text = '■メーカー(従業員200人以上)での人事総務の実務経験※「人事のみ」「総務のみ」ではなく幅広く経験された方歓迎■マネジメント経験のある方■自ら先頭にたって、賃金制度等の構築等を出来る方。\",\"■3社経験(次4社目)まででないとNGです。'"
   ]
  },
  {
   "cell_type": "code",
   "execution_count": 191,
   "metadata": {},
   "outputs": [
    {
     "data": {
      "text/plain": [
       "['3社経験', '次4社目']"
      ]
     },
     "execution_count": 191,
     "metadata": {},
     "output_type": "execute_result"
    }
   ],
   "source": [
    "extract_changeover_age_pattern(sample_text)"
   ]
  },
  {
   "cell_type": "code",
   "execution_count": 175,
   "metadata": {},
   "outputs": [
    {
     "data": {
      "text/plain": [
       "False"
      ]
     },
     "execution_count": 175,
     "metadata": {},
     "output_type": "execute_result"
    }
   ],
   "source": []
  }
 ],
 "metadata": {
  "kernelspec": {
   "display_name": "Python 3",
   "language": "python",
   "name": "python3"
  },
  "language_info": {
   "codemirror_mode": {
    "name": "ipython",
    "version": 3
   },
   "file_extension": ".py",
   "mimetype": "text/x-python",
   "name": "python",
   "nbconvert_exporter": "python",
   "pygments_lexer": "ipython3",
   "version": "3.5.4"
  }
 },
 "nbformat": 4,
 "nbformat_minor": 2
}
