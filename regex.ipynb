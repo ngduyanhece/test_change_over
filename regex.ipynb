{
 "cells": [
  {
   "cell_type": "code",
   "execution_count": 2,
   "metadata": {},
   "outputs": [],
   "source": [
    "import re"
   ]
  },
  {
   "cell_type": "code",
   "execution_count": 3,
   "metadata": {
    "collapsed": true
   },
   "outputs": [],
   "source": [
    "def remove_special_chars(text):\n",
    "    remove_tag = r'。|◎|■|▼|◆|▽|・|･|\\.|●|①|②|③|;|,|、|★|☆|＊|\\+|◇|:|※|／／｜～|：' \\\n",
    "                 r'|－|-|\\*|…|│|＋|←|→|\\?|└|（※）|「|」|⇔|「|」|『|』|\\u3000|' \\\n",
    "                 r'!|♪|！|~|％|%|～|\\?|\\／|\\/|&|=|⇒|└|xx|>|<|\\（|\\）|\\)|\\(|【|】|＜|＞' \\\n",
    "                 r'|≪|≫|\\[|\\]|\\r|\\n|\\t|\\'|_|e.g|\\{|\\}|\\#|\\@|\\$'\n",
    "    text = re.sub(remove_tag, ' ', text)\n",
    "    text = re.sub('\\s\\s+', ' ', text.strip())\n",
    "    return text"
   ]
  },
  {
   "cell_type": "code",
   "execution_count": 7,
   "metadata": {
    "collapsed": true
   },
   "outputs": [],
   "source": [
    "def split2sentences(para):\n",
    "    paras = []\n",
    "    # para = remove_numbers(para)\n",
    "    paras = remove_special_chars(para).split(\" \")\n",
    "    return paras"
   ]
  },
  {
   "cell_type": "code",
   "execution_count": 4,
   "metadata": {
    "collapsed": true
   },
   "outputs": [],
   "source": [
    "match_pattern = re.compile(r'(転職(者|社|回)*(数|で))|(次[0-9]+(社|者)目)|(転職(者|社|回)*(数|で)[0-9]+((回以上)|(社|者)*))|(数*[0-9]+((社以内)|((社|者)*経験.{0,1}[迄|(まで)|(のみ)]*)))')"
   ]
  },
  {
   "cell_type": "code",
   "execution_count": 34,
   "metadata": {},
   "outputs": [],
   "source": [
    "sample_text = '【必須要件】■1社で財務・経理を5年以上経験されている方■PCスキルをお持ちの方(システムからデータを抽出し、Excelで資料を作成することもあります)\\\n",
    "【歓迎要件】■税務申告の基礎知識【求める人物像】●セルフスターターの方●コミュニケーション能力に優れた方\",\\\n",
    "\"【募集背景】中堅スタッフ(男性)の欠員補充です。【書類選考Point】30代で転職回数2回(=3社経験)が目安。スキルによっては応相談。　【残業時間】平均的な残業時間(目安)40-50h/月程度。【'"
   ]
  },
  {
   "cell_type": "code",
   "execution_count": 14,
   "metadata": {
    "collapsed": true
   },
   "outputs": [],
   "source": [
    "def extract_changeover_age_pattern(text):\n",
    "    patterns = []\n",
    "    sentences = split2sentences(text)\n",
    "    for sentence in sentences:\n",
    "        match = re.search(match_pattern, sentence)\n",
    "        if match is not None:\n",
    "            patterns.append(match.string)\n",
    "    return patterns"
   ]
  },
  {
   "cell_type": "code",
   "execution_count": 37,
   "metadata": {},
   "outputs": [
    {
     "data": {
      "text/plain": [
       "['30代で転職回数2回', '3社経験']"
      ]
     },
     "execution_count": 37,
     "metadata": {},
     "output_type": "execute_result"
    }
   ],
   "source": [
    "extract_changeover_age_pattern(sample_text)"
   ]
  },
  {
   "cell_type": "code",
   "execution_count": 25,
   "metadata": {
    "collapsed": true
   },
   "outputs": [],
   "source": [
    "number_pattenr = re.compile(r'\\d+')"
   ]
  },
  {
   "cell_type": "code",
   "execution_count": 53,
   "metadata": {},
   "outputs": [
    {
     "data": {
      "text/plain": [
       "[]"
      ]
     },
     "execution_count": 53,
     "metadata": {},
     "output_type": "execute_result"
    }
   ],
   "source": [
    "re.findall(number_pattenr,'代で転職回数回')"
   ]
  },
  {
   "cell_type": "code",
   "execution_count": 51,
   "metadata": {},
   "outputs": [
    {
     "data": {
      "text/plain": [
       "'30'"
      ]
     },
     "execution_count": 51,
     "metadata": {},
     "output_type": "execute_result"
    }
   ],
   "source": [
    "match.group()"
   ]
  },
  {
   "cell_type": "code",
   "execution_count": 56,
   "metadata": {},
   "outputs": [],
   "source": [
    "def extract_number(text):\n",
    "    numbers = []\n",
    "    patterns = extract_changeover_age_pattern(text)\n",
    "    for pattern in patterns:\n",
    "        match = re.findall(number_pattenr,pattern)\n",
    "        if len(match) != 0:\n",
    "            numbers.append(match)\n",
    "    return numbers"
   ]
  },
  {
   "cell_type": "code",
   "execution_count": 57,
   "metadata": {},
   "outputs": [
    {
     "data": {
      "text/plain": [
       "[['30', '2'], ['3']]"
      ]
     },
     "execution_count": 57,
     "metadata": {},
     "output_type": "execute_result"
    }
   ],
   "source": [
    "extract_number(sample_text)"
   ]
  }
 ],
 "metadata": {
  "kernelspec": {
   "display_name": "Python 3",
   "language": "python",
   "name": "python3"
  },
  "language_info": {
   "codemirror_mode": {
    "name": "ipython",
    "version": 3
   },
   "file_extension": ".py",
   "mimetype": "text/x-python",
   "name": "python",
   "nbconvert_exporter": "python",
   "pygments_lexer": "ipython3",
   "version": "3.5.4"
  }
 },
 "nbformat": 4,
 "nbformat_minor": 2
}
